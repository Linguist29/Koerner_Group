{
 "cells": [
  {
   "cell_type": "code",
   "execution_count": 29,
   "id": "a45f29ff-e438-438b-b7e3-6da843f44e1e",
   "metadata": {},
   "outputs": [],
   "source": [
    "import numpy as np\n",
    "import uproot\n",
    "import pandas as pd\n",
    "import awkward as ak\n",
    "from tqdm import tqdm"
   ]
  },
  {
   "cell_type": "code",
   "execution_count": 30,
   "id": "878e4ce0-dc9a-4a3b-8176-35e009e6a519",
   "metadata": {},
   "outputs": [],
   "source": [
    "with uproot.open('atmospherics_prod_1M_events_cafs_hadd_with_weights.root') as f:\n",
    "    weights = f['weights'].arrays(library='pd')\n",
    "    weights['nuPDG'] = ak.flatten(f['cafTree/rec/mc/mc.nu.pdg'].array())\n",
    "    weights['Ev'] = ak.flatten(f['cafTree/rec/mc/mc.nu.E'].array())\n",
    "    weights['NuMomX'] = ak.flatten(f['cafTree/rec/mc/mc.nu.momentum.x'].array())\n",
    "    weights['NuMomY'] = ak.flatten(f['cafTree/rec/mc/mc.nu.momentum.y'].array())\n",
    "    weights['NuMomZ'] = ak.flatten(f['cafTree/rec/mc/mc.nu.momentum.z'].array())\n",
    "    weights['coszen'] = weights['NuMomY'] / np.sqrt(weights['NuMomX']**2 + weights['NuMomY']**2 + weights['NuMomZ']**2)\n",
    "\n",
    "    weights['nue_unosc_w'] = weights['xsec'] * weights['nue_w']\n",
    "    weights['numu_unosc_w'] = weights['xsec'] * weights['numu_w']\n",
    "df = weights"
   ]
  },
  {
   "cell_type": "code",
   "execution_count": 31,
   "id": "c785df4a-f631-4385-8183-5b9f1b01e839",
   "metadata": {},
   "outputs": [
    {
     "data": {
      "text/plain": [
       "1"
      ]
     },
     "execution_count": 31,
     "metadata": {},
     "output_type": "execute_result"
    }
   ],
   "source": [
    "#Get OscProb\n",
    "import ROOT\n",
    "ROOT.gSystem.Load('/home/seave/anaconda3/OscProb/lib/libOscProb.so')"
   ]
  },
  {
   "cell_type": "code",
   "execution_count": 32,
   "id": "9168c61e-23c6-4b29-9cbb-4e9af6a40c39",
   "metadata": {},
   "outputs": [],
   "source": [
    "def ConfigurePMNS(mh):\n",
    "    \n",
    "    myPMNS = ROOT.OscProb.PMNS_NSI()\n",
    "    prem = ROOT.OscProb.PremModel()\n",
    "\n",
    "    # Set basic oscillation parameters (Best fit as of 2024)\n",
    "    dm21 = 7.49e-5\n",
    "    dm31 = 2.513e-3 if mh > 0 else -2.510e-3\n",
    "    th12 = np.arcsin(np.sqrt(0.308))\n",
    "    th13 = np.arcsin(np.sqrt(0.02215)) if mh > 0 else np.arcsin(np.sqrt(0.02224));\n",
    "    th23 = np.arcsin(np.sqrt(0.470)) if mh > 0 else np.arcsin(np.sqrt(0.562));\n",
    "    dcp = 212*(np.pi/180) if mh> 0 else 285*(np.pi/180)\n",
    "\n",
    "    myPMNS.SetMix(th12, th23, th13, dcp);\n",
    "    myPMNS.SetDeltaMsqrs(dm21, dm31); \n",
    "\n",
    "    return myPMNS, prem"
   ]
  },
  {
   "cell_type": "code",
   "execution_count": 33,
   "id": "36b4dcd4-72d7-4806-9a90-dd60c689b87e",
   "metadata": {},
   "outputs": [],
   "source": [
    "def Get_Prob(E, coszen, mh, flav_in, flav_out, nsiDict, is_antinu):\n",
    "  \n",
    "  myPMNS, prem = ConfigurePMNS(mh)\n",
    "    \n",
    "  if is_antinu:\n",
    "    myPMNS.SetIsNuBar(True)\n",
    "  #Set epsilon and delta values to given nsi param\n",
    "  if nsiDict is not None:\n",
    "      nsi_param = list(nsiDict.keys())[0]\n",
    "      nsi_value, delta = nsiDict[nsi_param] \n",
    "      \n",
    "      # Reset ONLY the ones you're not using\n",
    "      if nsi_param == 'eps_emu':\n",
    "          myPMNS.SetEps_etau(0, 0)\n",
    "          myPMNS.SetEps_mutau(0, 0)\n",
    "          myPMNS.SetEps_emu(nsi_value, delta)\n",
    "      elif nsi_param == 'eps_etau':\n",
    "          myPMNS.SetEps_emu(0, 0)\n",
    "          myPMNS.SetEps_mutau(0, 0)\n",
    "          myPMNS.SetEps_etau(nsi_value, delta)\n",
    "      elif nsi_param == 'eps_mutau':\n",
    "          myPMNS.SetEps_emu(0, 0)\n",
    "          myPMNS.SetEps_etau(0, 0)\n",
    "          myPMNS.SetEps_mutau(nsi_value, delta)\n",
    "      else:\n",
    "          print(\"Invalid NSI Parameter\")\n",
    "\n",
    "  #Get total length of path and set path through earth\n",
    "  L = prem.GetTotalL(coszen)\n",
    "  prem.FillPath(coszen);\n",
    "  myPMNS.SetPath(prem.GetNuPath());\n",
    "\n",
    "  prob =  myPMNS.Prob(flav_in, flav_out, E, L)\n",
    "  return prob"
   ]
  },
  {
   "cell_type": "code",
   "execution_count": 34,
   "id": "8497bafc-850b-4a91-a429-ad6f720cb883",
   "metadata": {},
   "outputs": [],
   "source": [
    "def Get_Expected(df, mh, flav_out, nsiDict):\n",
    "    total_weighted = 0.0\n",
    "    \n",
    "    for _, row in df.iterrows():\n",
    "        E = row['Ev']\n",
    "        cz = row['coszen']\n",
    "        nu_pdg = row['nuPDG']\n",
    "        is_antinu = (nu_pdg < 0)\n",
    "        flav_in = abs(nu_pdg)  # Use 12, 14, 16 for ν_e, ν_μ, ν_τ\n",
    "\n",
    "        # Pick the correct unoscillated weight\n",
    "        if flav_in == 12:  # ν_e or ν̄_e\n",
    "            weight = row['nue_unosc_w']\n",
    "            flav_in_code = 0\n",
    "        elif flav_in == 14:  # ν_μ or ν̄_μ\n",
    "            weight = row['numu_unosc_w']\n",
    "            flav_in_code = 1\n",
    "        else:\n",
    "            continue \n",
    "\n",
    "        # Compute oscillation probability\n",
    "        prob = Get_Prob(\n",
    "            E, cz, mh,\n",
    "            flav_in_code, flav_out,\n",
    "            nsiDict,\n",
    "            is_antinu\n",
    "        )\n",
    "        total_weighted += weight * prob\n",
    "\n",
    "    return total_weighted\n"
   ]
  },
  {
   "cell_type": "code",
   "execution_count": 35,
   "id": "cd2c96de-f93a-4c14-b8c9-ed408ba90d7f",
   "metadata": {},
   "outputs": [],
   "source": [
    "def Make_NSI_Dict(eps_name, eps_val, delta):\n",
    "    nsiDict = {eps_name: [eps_val, delta]}\n",
    "    return nsiDict"
   ]
  },
  {
   "cell_type": "code",
   "execution_count": 28,
   "id": "36e256a7-c1b4-4f8c-862d-479012f42f2d",
   "metadata": {},
   "outputs": [
    {
     "name": "stdout",
     "output_type": "stream",
     "text": [
      "46790.35503776888\n"
     ]
    },
    {
     "name": "stderr",
     "output_type": "stream",
     "text": [
      "Scanning ε:   0%|                                                                                 | 0/5 [00:00<?, ?it/s]"
     ]
    },
    {
     "name": "stdout",
     "output_type": "stream",
     "text": [
      "46790.35503776888\n",
      "46790.35503776888\n"
     ]
    },
    {
     "name": "stderr",
     "output_type": "stream",
     "text": [
      "Scanning ε:   0%|                                                                                 | 0/5 [00:52<?, ?it/s]\n"
     ]
    },
    {
     "ename": "KeyboardInterrupt",
     "evalue": "",
     "output_type": "error",
     "traceback": [
      "\u001b[31m---------------------------------------------------------------------------\u001b[39m",
      "\u001b[31mKeyboardInterrupt\u001b[39m                         Traceback (most recent call last)",
      "\u001b[36mCell\u001b[39m\u001b[36m \u001b[39m\u001b[32mIn[28]\u001b[39m\u001b[32m, line 19\u001b[39m\n\u001b[32m     17\u001b[39m \u001b[38;5;28;01mfor\u001b[39;00m j, delta \u001b[38;5;129;01min\u001b[39;00m \u001b[38;5;28menumerate\u001b[39m(delta_vals):\n\u001b[32m     18\u001b[39m     nsiDict = Make_NSI_Dict(\u001b[33m\"\u001b[39m\u001b[33meps_emu\u001b[39m\u001b[33m\"\u001b[39m, eps, delta)\n\u001b[32m---> \u001b[39m\u001b[32m19\u001b[39m     N_nsi = \u001b[43mGet_Expected\u001b[49m\u001b[43m(\u001b[49m\u001b[43mdf\u001b[49m\u001b[43m,\u001b[49m\u001b[43m \u001b[49m\u001b[43mmh\u001b[49m\u001b[43m,\u001b[49m\u001b[43m \u001b[49m\u001b[43mflav_out\u001b[49m\u001b[43m,\u001b[49m\u001b[43m \u001b[49m\u001b[43mnsiDict\u001b[49m\u001b[43m)\u001b[49m\n\u001b[32m     20\u001b[39m     \u001b[38;5;28mprint\u001b[39m(N_nsi)\n\u001b[32m     21\u001b[39m     chi2_map[i, j] = ((N_nsi - N_std)**\u001b[32m2\u001b[39m) / (N_std)\n",
      "\u001b[36mCell\u001b[39m\u001b[36m \u001b[39m\u001b[32mIn[26]\u001b[39m\u001b[32m, line 22\u001b[39m, in \u001b[36mGet_Expected\u001b[39m\u001b[34m(df, mh, flav_out, nsiDict)\u001b[39m\n\u001b[32m     19\u001b[39m         \u001b[38;5;28;01mcontinue\u001b[39;00m \n\u001b[32m     21\u001b[39m     \u001b[38;5;66;03m# Compute oscillation probability\u001b[39;00m\n\u001b[32m---> \u001b[39m\u001b[32m22\u001b[39m     prob = \u001b[43mGet_Prob\u001b[49m\u001b[43m(\u001b[49m\n\u001b[32m     23\u001b[39m \u001b[43m        \u001b[49m\u001b[43mE\u001b[49m\u001b[43m,\u001b[49m\u001b[43m \u001b[49m\u001b[43mcz\u001b[49m\u001b[43m,\u001b[49m\u001b[43m \u001b[49m\u001b[43mmh\u001b[49m\u001b[43m,\u001b[49m\n\u001b[32m     24\u001b[39m \u001b[43m        \u001b[49m\u001b[43mflav_in_code\u001b[49m\u001b[43m,\u001b[49m\u001b[43m \u001b[49m\u001b[43mflav_out\u001b[49m\u001b[43m,\u001b[49m\n\u001b[32m     25\u001b[39m \u001b[43m        \u001b[49m\u001b[43mnsiDict\u001b[49m\u001b[43m,\u001b[49m\n\u001b[32m     26\u001b[39m \u001b[43m        \u001b[49m\u001b[43mis_antinu\u001b[49m\n\u001b[32m     27\u001b[39m \u001b[43m    \u001b[49m\u001b[43m)\u001b[49m\n\u001b[32m     28\u001b[39m     total_weighted += weight * prob\n\u001b[32m     30\u001b[39m \u001b[38;5;28;01mreturn\u001b[39;00m total_weighted\n",
      "\u001b[36mCell\u001b[39m\u001b[36m \u001b[39m\u001b[32mIn[25]\u001b[39m\u001b[32m, line 3\u001b[39m, in \u001b[36mGet_Prob\u001b[39m\u001b[34m(E, coszen, mh, flav_in, flav_out, nsiDict, is_antinu)\u001b[39m\n\u001b[32m      1\u001b[39m \u001b[38;5;28;01mdef\u001b[39;00m\u001b[38;5;250m \u001b[39m\u001b[34mGet_Prob\u001b[39m(E, coszen, mh, flav_in, flav_out, nsiDict, is_antinu):\n\u001b[32m----> \u001b[39m\u001b[32m3\u001b[39m   myPMNS, prem = \u001b[43mConfigurePMNS\u001b[49m\u001b[43m(\u001b[49m\u001b[43mmh\u001b[49m\u001b[43m)\u001b[49m\n\u001b[32m      5\u001b[39m   \u001b[38;5;28;01mif\u001b[39;00m is_antinu:\n\u001b[32m      6\u001b[39m     myPMNS.SetIsNuBar(\u001b[38;5;28;01mTrue\u001b[39;00m)\n",
      "\u001b[36mCell\u001b[39m\u001b[36m \u001b[39m\u001b[32mIn[24]\u001b[39m\u001b[32m, line 4\u001b[39m, in \u001b[36mConfigurePMNS\u001b[39m\u001b[34m(mh)\u001b[39m\n\u001b[32m      1\u001b[39m \u001b[38;5;28;01mdef\u001b[39;00m\u001b[38;5;250m \u001b[39m\u001b[34mConfigurePMNS\u001b[39m(mh):\n\u001b[32m      3\u001b[39m     myPMNS = ROOT.OscProb.PMNS_NSI()\n\u001b[32m----> \u001b[39m\u001b[32m4\u001b[39m     prem = \u001b[43mROOT\u001b[49m\u001b[43m.\u001b[49m\u001b[43mOscProb\u001b[49m\u001b[43m.\u001b[49m\u001b[43mPremModel\u001b[49m\u001b[43m(\u001b[49m\u001b[43m)\u001b[49m\n\u001b[32m      6\u001b[39m     \u001b[38;5;66;03m# Set basic oscillation parameters (Best fit as of 2024)\u001b[39;00m\n\u001b[32m      7\u001b[39m     dm21 = \u001b[32m7.49e-5\u001b[39m\n",
      "\u001b[31mKeyboardInterrupt\u001b[39m: "
     ]
    },
    {
     "name": "stderr",
     "output_type": "stream",
     "text": [
      "IOPub data rate exceeded.\n",
      "The Jupyter server will temporarily stop sending output\n",
      "to the client in order to avoid crashing it.\n",
      "To change this limit, set the config variable\n",
      "`--ServerApp.iopub_data_rate_limit`.\n",
      "\n",
      "Current values:\n",
      "ServerApp.iopub_data_rate_limit=1000000.0 (bytes/sec)\n",
      "ServerApp.rate_limit_window=3.0 (secs)\n",
      "\n"
     ]
    }
   ],
   "source": [
    "#Get progress bar, will likely take some time\n",
    "from tqdm import tqdm\n",
    "import time\n",
    "\n",
    "eps_vals = np.linspace(0, 0.5, 5)\n",
    "delta_vals = np.linspace(0, 2*np.pi, 5)\n",
    "chi2_map = np.zeros((len(eps_vals), len(delta_vals)))\n",
    "\n",
    "mh = +1  # or -1 for inverted hierarchy\n",
    "flav_out = 1  # observed flavor (e.g., νμ)\n",
    "\n",
    "# Compute standard events\n",
    "N_std = Get_Expected(df, mh, flav_out, nsiDict = None)\n",
    "print(N_std)\n",
    "# Scan grid\n",
    "for i, eps in enumerate(tqdm(eps_vals, desc=\"Scanning ε\")):\n",
    "    for j, delta in enumerate(delta_vals):\n",
    "        nsiDict = Make_NSI_Dict(\"eps_emu\", eps, delta)\n",
    "        N_nsi = Get_Expected(df, mh, flav_out, nsiDict)\n",
    "        print(N_nsi)\n",
    "        chi2_map[i, j] = ((N_nsi - N_std)**2) / (N_std)\n"
   ]
  },
  {
   "cell_type": "code",
   "execution_count": null,
   "id": "4b20f9b5-0a65-4b17-9df2-2fcf78c87c28",
   "metadata": {},
   "outputs": [],
   "source": []
  },
  {
   "cell_type": "code",
   "execution_count": null,
   "id": "ddf7a0a9-8952-47e9-ad7d-bbbe4c5708b4",
   "metadata": {},
   "outputs": [],
   "source": []
  }
 ],
 "metadata": {
  "kernelspec": {
   "display_name": "Python 3 (ipykernel)",
   "language": "python",
   "name": "python3"
  },
  "language_info": {
   "codemirror_mode": {
    "name": "ipython",
    "version": 3
   },
   "file_extension": ".py",
   "mimetype": "text/x-python",
   "name": "python",
   "nbconvert_exporter": "python",
   "pygments_lexer": "ipython3",
   "version": "3.12.10"
  }
 },
 "nbformat": 4,
 "nbformat_minor": 5
}
