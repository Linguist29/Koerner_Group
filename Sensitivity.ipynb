{
 "cells": [
  {
   "cell_type": "code",
   "execution_count": null,
   "id": "8c18467b-084a-4583-863d-cc1ab0441aea",
   "metadata": {},
   "outputs": [],
   "source": [
    "with uproot.open('atmospherics_prod_1M_events_cafs_hadd_with_weights.root') as f:"
   ]
  }
 ],
 "metadata": {
  "kernelspec": {
   "display_name": "Python 3 (ipykernel)",
   "language": "python",
   "name": "python3"
  },
  "language_info": {
   "codemirror_mode": {
    "name": "ipython",
    "version": 3
   },
   "file_extension": ".py",
   "mimetype": "text/x-python",
   "name": "python",
   "nbconvert_exporter": "python",
   "pygments_lexer": "ipython3",
   "version": "3.13.2"
  }
 },
 "nbformat": 4,
 "nbformat_minor": 5
}
